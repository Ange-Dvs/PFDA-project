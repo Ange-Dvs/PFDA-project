{
 "cells": [
  {
   "cell_type": "markdown",
   "metadata": {},
   "source": [
    "\n",
    "Questions to be considered for the project \n",
    "\n",
    "what industriess performed best over a certain time period?  \n",
    "Are there trends in stock price movements by quarter, year, decade?  \n",
    "Can we predict stock price trends using historical data?  \n",
    "Impact of certain events on the stock prices i.e. US election, end of quarter performance announcements by companies, press releases etc"
   ]
  },
  {
   "cell_type": "code",
   "execution_count": null,
   "metadata": {},
   "outputs": [
    {
     "name": "stdout",
     "output_type": "stream",
     "text": [
      "Requirement already satisfied: yfinance in c:\\users\\angel\\anaconda3\\lib\\site-packages (0.2.50)\n",
      "Requirement already satisfied: pandas>=1.3.0 in c:\\users\\angel\\anaconda3\\lib\\site-packages (from yfinance) (2.2.2)\n",
      "Requirement already satisfied: numpy>=1.16.5 in c:\\users\\angel\\anaconda3\\lib\\site-packages (from yfinance) (1.26.4)\n",
      "Requirement already satisfied: requests>=2.31 in c:\\users\\angel\\anaconda3\\lib\\site-packages (from yfinance) (2.32.2)\n",
      "Requirement already satisfied: multitasking>=0.0.7 in c:\\users\\angel\\anaconda3\\lib\\site-packages (from yfinance) (0.0.11)\n",
      "Requirement already satisfied: lxml>=4.9.1 in c:\\users\\angel\\anaconda3\\lib\\site-packages (from yfinance) (5.2.1)\n",
      "Requirement already satisfied: platformdirs>=2.0.0 in c:\\users\\angel\\anaconda3\\lib\\site-packages (from yfinance) (3.10.0)\n",
      "Requirement already satisfied: pytz>=2022.5 in c:\\users\\angel\\anaconda3\\lib\\site-packages (from yfinance) (2024.1)\n",
      "Requirement already satisfied: frozendict>=2.3.4 in c:\\users\\angel\\anaconda3\\lib\\site-packages (from yfinance) (2.4.2)\n",
      "Requirement already satisfied: peewee>=3.16.2 in c:\\users\\angel\\anaconda3\\lib\\site-packages (from yfinance) (3.17.8)\n",
      "Requirement already satisfied: beautifulsoup4>=4.11.1 in c:\\users\\angel\\anaconda3\\lib\\site-packages (from yfinance) (4.12.3)\n",
      "Requirement already satisfied: html5lib>=1.1 in c:\\users\\angel\\anaconda3\\lib\\site-packages (from yfinance) (1.1)\n",
      "Requirement already satisfied: soupsieve>1.2 in c:\\users\\angel\\anaconda3\\lib\\site-packages (from beautifulsoup4>=4.11.1->yfinance) (2.5)\n",
      "Requirement already satisfied: six>=1.9 in c:\\users\\angel\\anaconda3\\lib\\site-packages (from html5lib>=1.1->yfinance) (1.16.0)\n",
      "Requirement already satisfied: webencodings in c:\\users\\angel\\anaconda3\\lib\\site-packages (from html5lib>=1.1->yfinance) (0.5.1)\n",
      "Requirement already satisfied: python-dateutil>=2.8.2 in c:\\users\\angel\\anaconda3\\lib\\site-packages (from pandas>=1.3.0->yfinance) (2.9.0.post0)\n",
      "Requirement already satisfied: tzdata>=2022.7 in c:\\users\\angel\\anaconda3\\lib\\site-packages (from pandas>=1.3.0->yfinance) (2023.3)\n",
      "Requirement already satisfied: charset-normalizer<4,>=2 in c:\\users\\angel\\anaconda3\\lib\\site-packages (from requests>=2.31->yfinance) (2.0.4)\n",
      "Requirement already satisfied: idna<4,>=2.5 in c:\\users\\angel\\anaconda3\\lib\\site-packages (from requests>=2.31->yfinance) (3.7)\n",
      "Requirement already satisfied: urllib3<3,>=1.21.1 in c:\\users\\angel\\anaconda3\\lib\\site-packages (from requests>=2.31->yfinance) (2.2.2)\n",
      "Requirement already satisfied: certifi>=2017.4.17 in c:\\users\\angel\\anaconda3\\lib\\site-packages (from requests>=2.31->yfinance) (2024.8.30)\n"
     ]
    }
   ],
   "source": [
    "# installing yfinace package\n",
    "#pip install yfinance"
   ]
  },
  {
   "cell_type": "code",
   "execution_count": 1,
   "metadata": {},
   "outputs": [],
   "source": [
    "# importing libraries\n",
    "\n",
    "import pandas as pd\n",
    "import yfinance as yf\n",
    "import seaborn as sns\n",
    "import numpy as np \n",
    "import matplotlib.pyplot as plt"
   ]
  },
  {
   "cell_type": "code",
   "execution_count": 9,
   "metadata": {},
   "outputs": [
    {
     "name": "stdout",
     "output_type": "stream",
     "text": [
      "            Industry  Avg Market Cap ($B)  Avg P/E Ratio  \\\n",
      "0         Technology              3533.16          44.69   \n",
      "1  Quantum Computing                 5.81           0.00   \n",
      "2  Electric Vehicles               494.02          41.70   \n",
      "3   Renewable Energy                59.45          65.34   \n",
      "\n",
      "   Avg Dividend Yield (%)  \n",
      "0                    0.39  \n",
      "1                    0.00  \n",
      "2                    0.00  \n",
      "3                    0.96  \n"
     ]
    }
   ],
   "source": [
    "# creating a list to define the industries and the companies that will be used for the project\n",
    "industries = {\n",
    "    'Technology': ['AAPL', 'MSFT', 'NVDA'],  \n",
    "    'Quantum Computing': ['IONQ', 'RGTI', 'QBTS'],  \n",
    "    'Electric Vehicles': ['TSLA', 'RIVN', 'LCID'],  \n",
    "    'Renewable Energy': ['NEE', 'FSLR', 'ENPH']  \n",
    "}\n",
    "\n",
    "# creating an empty list to store summary statistics for each industry\n",
    "industry_summary = []\n",
    "\n",
    "# fetching the data for each industry by looping through the key value pairs returned from the .items() method\n",
    "for industry, companies in industries.items():\n",
    "    data = yf.Tickers(' '.join(companies))  # .Tickers() function is used to fetch the data for all of the companies in the list within the industry for that iteration of the for loop\n",
    "    # creating lists to store the  market capitalisations, P/E ratios and dividend yields per company\n",
    "    market_caps = []\n",
    "    pe_ratios = []\n",
    "    dividend_yields = []\n",
    "\n",
    "    # getting the data for each company within the industry specified for the parent for loop\n",
    "    for company in companies:\n",
    "        info = data.tickers[company].info  # retrieveing detailed information about the company\n",
    "\n",
    "        # Adding the market cap, P/E ratio and dividend yield for the current company to the lists defined above\n",
    "        # getting the market cap and trailing P/E ratio, defaulting to 0 if data is missing\n",
    "        market_caps.append(info.get('marketCap', 0))  \n",
    "        pe_ratios.append(info.get('trailingPE', 0))\n",
    "        #calculating the dividend yield as a percentage\n",
    "        dividend_yields.append(info.get('dividendYield', 0) * 100 if info.get('dividendYield') else 0)\n",
    "\n",
    "    # calculating the averages for the market cap, P/E ratio and dividend yield for the industry using the values added to the 3 lists for each company\n",
    "    # first the 3 values are added together then the length of list is used to divide the sum giving the average for each industry\n",
    "    avg_market_cap = sum(market_caps) / len(market_caps)\n",
    "    avg_pe_ratio = sum(pe_ratios) / len(pe_ratios)\n",
    "    avg_dividend_yield = sum(dividend_yields) / len(dividend_yields)\n",
    "\n",
    "    # adding the results for the industry to the summary list\n",
    "    industry_summary.append({\n",
    "        'Industry': industry,  # industry name\n",
    "        'Avg Market Cap ($B)': round(avg_market_cap / 1e9, 2),  # average market cap in billions\n",
    "        'Avg P/E Ratio': round(avg_pe_ratio, 2),  # average price-to-earnings ratio\n",
    "        'Avg Dividend Yield (%)': round(avg_dividend_yield, 2)  # Average dividend yield percentage\n",
    "    })\n",
    "\n",
    "# creating a DataFrame to store and display results \n",
    "summary_df = pd.DataFrame(industry_summary)  # converting summary list into a DataFrame\n",
    "print(summary_df)  # displaying the summary table\n"
   ]
  }
 ],
 "metadata": {
  "kernelspec": {
   "display_name": "base",
   "language": "python",
   "name": "python3"
  },
  "language_info": {
   "codemirror_mode": {
    "name": "ipython",
    "version": 3
   },
   "file_extension": ".py",
   "mimetype": "text/x-python",
   "name": "python",
   "nbconvert_exporter": "python",
   "pygments_lexer": "ipython3",
   "version": "3.12.4"
  }
 },
 "nbformat": 4,
 "nbformat_minor": 2
}
