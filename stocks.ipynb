{
 "cells": [
  {
   "cell_type": "markdown",
   "metadata": {},
   "source": [
    "\n",
    "Questions to be considered for the project \n",
    "\n",
    "what industriess performed best over a certain time period?  \n",
    "Are there trends in stock price movements by quarter, year, decade?  \n",
    "Can we predict stock price trends using historical data?  \n",
    "Impact of certain events on the stock prices i.e. US election, end of quarter performance announcements by companies, press releases etc"
   ]
  },
  {
   "cell_type": "code",
   "execution_count": 65,
   "metadata": {},
   "outputs": [],
   "source": [
    "# importing libraries\n",
    "\n",
    "import pandas as pd\n",
    "import yfinance as yf\n",
    "import seaborn as sns\n",
    "import numpy as np \n",
    "import matplotlib.pyplot as plt"
   ]
  },
  {
   "cell_type": "code",
   "execution_count": 66,
   "metadata": {},
   "outputs": [],
   "source": [
    "# creating a dictionary to define the industries and the companies that will be used for the project\n",
    "industries = {\n",
    "    'Technology': ['AAPL', 'MSFT', 'NVDA'], \n",
    "    'Quantum Computing': ['IONQ', 'RGTI', 'QBTS'],\n",
    "    'Electric Vehicles': ['TSLA', 'RIVN', 'LCID'],\n",
    "    'Renewable Energy': ['NEE', 'FSLR', 'ENPH']\n",
    "}"
   ]
  },
  {
   "cell_type": "code",
   "execution_count": 67,
   "metadata": {},
   "outputs": [],
   "source": [
    "# creating a dictionary to store dataFrames to for different time period\n",
    "industry_dataframes = {\n",
    "    '5y': pd.DataFrame(),  # mid-term trends (5 years)\n",
    "    '1y': pd.DataFrame(),  # quarterly/yearly movements (1 year)\n",
    "    'event_specific': pd.DataFrame(),  # specific date ranges for event analysis 2024 US election\n",
    "    '10y': pd.DataFrame()  # long-term trends (10 years or max)\n",
    "}"
   ]
  },
  {
   "cell_type": "markdown",
   "metadata": {},
   "source": [
    "## Checking the data"
   ]
  },
  {
   "cell_type": "markdown",
   "metadata": {},
   "source": [
    "Due to the newness of some of the industries being considered for the project.  \n",
    "The timeframe the data is available for each of the choosen companies will be checked to see if they have data available for the last 5 years. "
   ]
  },
  {
   "cell_type": "code",
   "execution_count": 68,
   "metadata": {},
   "outputs": [
    {
     "name": "stdout",
     "output_type": "stream",
     "text": [
      "Company:\tData starts:\tLatest date:\t5yr available?\n",
      "------------------------------------------------------------------\n",
      "AAPL\t\t1980-12-12\t2024-12-27\tYes\n",
      "MSFT\t\t1986-03-13\t2024-12-27\tYes\n",
      "NVDA\t\t1999-01-22\t2024-12-27\tYes\n",
      "IONQ\t\t2021-01-04\t2024-12-27\tNo\n",
      "RGTI\t\t2021-04-22\t2024-12-27\tNo\n",
      "QBTS\t\t2020-12-11\t2024-12-27\tNo\n",
      "TSLA\t\t2010-06-29\t2024-12-27\tYes\n",
      "RIVN\t\t2021-11-10\t2024-12-27\tNo\n",
      "LCID\t\t2020-09-18\t2024-12-27\tNo\n",
      "NEE\t\t1973-02-21\t2024-12-27\tYes\n",
      "FSLR\t\t2006-11-17\t2024-12-27\tYes\n",
      "ENPH\t\t2012-03-30\t2024-12-27\tYes\n"
     ]
    }
   ],
   "source": [
    "print(f'Company:\\tData starts:\\tLatest date:\\t5yr available?')\n",
    "print(f'------------------------------------------------------------------')\n",
    "\n",
    "# checking the start date of the data for the chosen companies\n",
    "for industry, companies in industries.items():\n",
    "        for company in companies:\n",
    "            ticker = yf.Ticker(company)\n",
    "            hist = ticker.history(period='max')  # fetching the maximum available data\n",
    "            start_date = hist.index.min().strftime('%Y-%m-%d')  # getting the earliest date available but looking at the min in the index for each company and formating the start date as a string to be shown in so only the date information and not the timestamp are included\n",
    "            latest_date = hist.index.max().strftime('%Y-%m-%d')\n",
    "            if pd.to_datetime(start_date) > pd.Timestamp('2019-12-27'):\n",
    "                five_yr_available = 'No' \n",
    "            else: \n",
    "                five_yr_available = 'Yes'\n",
    "            \n",
    "            print(f\"{company}\\t\\t{start_date}\\t{latest_date}\\t{five_yr_available}\") # printing the company, date the data is available from, latest date information for the data pulled and a yes/no answer of if the data is available for the last 5 years\n"
   ]
  },
  {
   "cell_type": "markdown",
   "metadata": {},
   "source": [
    "From the above we can see that there are several companies which do not have 5 years worth of data available.  \n",
    "These are companies belowing to Quantum computing & electronic vechile industries, which is not surprising as the technology for these industries are relatively new/young in comparison to some of the historical companies/industries in the stock market.  \n",
    "\n",
    "With this information the technology and renewable energy industry will be used for mid-long term analysis. "
   ]
  },
  {
   "cell_type": "code",
   "execution_count": 69,
   "metadata": {},
   "outputs": [],
   "source": [
    "\n",
    "# fetching and saving the data for multiple time periods to individual dataframes\n",
    "for time_period in ['5y', '1y', 'event_specific', '10y']:\n",
    "    temp_data = []  # storing the data temporarily for each time period so it can be added to the dataframe later\n",
    "    for industry, companies in industries.items():  # fetching the data for each industry by looping through the key value pairs returned from the .items() method\n",
    "        for company in companies:  # getting the data for each company within the industry specified for the parent for loop\n",
    "            # fetching the historical data\n",
    "            # if loop checking the time_period value per iteration and choosing what steps to complete depending on the value \n",
    "            if time_period == 'event_specific': # the code will follow this path if the time period matches event_specific\n",
    "                hist = yf.Ticker(company).history(start='2023-12-26', end='2024-12-26') # getting the info for the date range specified \n",
    "            elif time_period in ['5y', '10y'] and industry in ['Quantum Computing', 'Electric Vehicles']: \n",
    "                continue  # skipping fetching 5y and 10y data for the Quantum Computing and Electric Vehicles industries as not all companies have sufficient data for this\n",
    "            else:\n",
    "                hist = yf.Ticker(company).history(period=time_period)\n",
    "            # adding headers and defining which data should be entered for those columns\n",
    "            hist['Industry'] = industry\n",
    "            hist['Company'] = company\n",
    "            hist['Timeframe'] = time_period\n",
    "            temp_data.append(hist) # adding the details gathered to the temp_data list\n",
    "    # adding all data for the period into a DataFrame\n",
    "    industry_dataframes[time_period] = pd.concat(temp_data)\n",
    "    \n",
    "# print(industry_dataframes['1y'])\n",
    "# checking which industries the data is present in the dataframes to ensure the if statement has executed successfully\n",
    "# commented out for now as testing was successful\n",
    "# counted_industries_1 = industry_dataframes['1y']['Industry'].value_counts()\n",
    "# print(f'1 year count:\\n{counted_industries_1}\\n')\n",
    "# counted_industries_5 = industry_dataframes['5y']['Industry'].value_counts()\n",
    "# print(f'5 year count:\\n{counted_industries_5}\\n')\n",
    "# counted_industries_es = industry_dataframes['event_specific']['Industry'].value_counts()\n",
    "# print(f'Event specific count:\\n{counted_industries_es}\\n')\n",
    "# counted_industries_10 = industry_dataframes['10y']['Industry'].value_counts()\n",
    "# print(f'10 year count:\\n{counted_industries_10}')\n"
   ]
  },
  {
   "cell_type": "markdown",
   "metadata": {},
   "source": [
    "### Checking DataFrames for missing data and the data types of the columns\n"
   ]
  },
  {
   "cell_type": "code",
   "execution_count": 70,
   "metadata": {},
   "outputs": [
    {
     "name": "stdout",
     "output_type": "stream",
     "text": [
      "The 5y data contains 0 missing values.\n",
      "The following data types can be found in the df:\n",
      "float64    6\n",
      "object     3\n",
      "int64      1\n",
      "Name: count, dtype: int64\n",
      "\n",
      "The 1y data contains 0 missing values.\n",
      "The following data types can be found in the df:\n",
      "float64    6\n",
      "object     3\n",
      "int64      1\n",
      "Name: count, dtype: int64\n",
      "\n",
      "The event_specific data contains 0 missing values.\n",
      "The following data types can be found in the df:\n",
      "float64    6\n",
      "object     3\n",
      "int64      1\n",
      "Name: count, dtype: int64\n",
      "\n",
      "The 10y data contains 0 missing values.\n",
      "The following data types can be found in the df:\n",
      "float64    6\n",
      "object     3\n",
      "int64      1\n",
      "Name: count, dtype: int64\n",
      "\n"
     ]
    }
   ],
   "source": [
    "# lopping through each of the dataframes created to see if any data is missing\n",
    "for time_period in ['5y', '1y', 'event_specific', '10y']: \n",
    "    no_of_blanks = industry_dataframes[time_period].isna().sum().sum() # looking for NaN values and getting the total of the sum of missing values for all columns in the df \n",
    "    print(f'The {time_period} data contains {no_of_blanks} missing values.') # printing one summary line to state if there is missing values in the dataset\n",
    "    df_dtypes = industry_dataframes[time_period].dtypes.value_counts()\n",
    "    print(f'The following data types can be found in the df:\\n{df_dtypes}\\n')"
   ]
  },
  {
   "cell_type": "markdown",
   "metadata": {},
   "source": [
    "From the above we can see there are 3 columns of data type ``object``.  \n",
    "As calculations and comparitive analysis will be performed later in the project, next the 3 columns which are of dtype ``object`` will be checked to ensure these are not numeric columns which have incorrect dtype assigned. This is done as a value assigned as an ``object`` will not be possible to be used for performing numerical operations later. "
   ]
  },
  {
   "cell_type": "code",
   "execution_count": 71,
   "metadata": {},
   "outputs": [
    {
     "name": "stdout",
     "output_type": "stream",
     "text": [
      "The columns of dtype object are:\n",
      "\n",
      "5y DataFrame:\n",
      "['Industry', 'Company', 'Timeframe']\n",
      "\n",
      "1y DataFrame:\n",
      "['Industry', 'Company', 'Timeframe']\n",
      "\n",
      "Event_specific DataFrame:\n",
      "['Industry', 'Company', 'Timeframe']\n",
      "\n",
      "10y DataFrame:\n",
      "['Industry', 'Company', 'Timeframe']\n",
      "\n"
     ]
    }
   ],
   "source": [
    "# checking which columns are of dtype object\n",
    "print('The columns of dtype object are:\\n')\n",
    "for time_period in ['5y', '1y', 'event_specific', '10y']: \n",
    "    # Find columns with 'object' data type\n",
    "    object_cols = industry_dataframes[time_period].select_dtypes(include='object').columns.tolist()\n",
    "    print(f'{time_period.capitalize()} DataFrame:\\n{object_cols}\\n')\n"
   ]
  },
  {
   "cell_type": "markdown",
   "metadata": {},
   "source": [
    "As the 'Industry', 'Company' and 'Timeframe' are not numeric columns and not needed for calculations, the ``object`` dtype should cause no issues."
   ]
  },
  {
   "cell_type": "markdown",
   "metadata": {},
   "source": [
    "### Checking the index data\n",
    "As analysis and comparisons on the data over different time periods will be performed, having the index be of ``Pandas`` ``datetime`` index is preferred."
   ]
  },
  {
   "cell_type": "code",
   "execution_count": 72,
   "metadata": {},
   "outputs": [
    {
     "name": "stdout",
     "output_type": "stream",
     "text": [
      "The index data type for the 5y dataframe is: datetime64[ns, America/New_York]\n",
      "The index data type for the 1y dataframe is: datetime64[ns, America/New_York]\n",
      "The index data type for the event_specific dataframe is: datetime64[ns, America/New_York]\n",
      "The index data type for the 10y dataframe is: datetime64[ns, America/New_York]\n"
     ]
    }
   ],
   "source": [
    "# checking the index dtype for each dataframe\n",
    "for time_period in ['5y', '1y', 'event_specific', '10y']:\n",
    "    index_dtype = industry_dataframes[time_period].index.dtype\n",
    "    print(f'The index data type for the {time_period} dataframe is: {index_dtype}')"
   ]
  },
  {
   "cell_type": "markdown",
   "metadata": {},
   "source": [
    "From the above output it can be seen that the index data is of the datetime64 dtype which is desired. However, additional information is present suggesting the timezone of the data retrieved is America/New York and not UTC.  \n",
    "To confirm this, one of the index values will be checked as an example to see how the data is showing."
   ]
  },
  {
   "cell_type": "code",
   "execution_count": 73,
   "metadata": {},
   "outputs": [
    {
     "name": "stdout",
     "output_type": "stream",
     "text": [
      "The first index value in each index is:\n",
      "5y: 2019-12-30 00:00:00-05:00\n",
      "1y: 2023-12-28 00:00:00-05:00\n",
      "event_specific: 2023-12-26 00:00:00-05:00\n",
      "10y: 2014-12-29 00:00:00-05:00\n"
     ]
    }
   ],
   "source": [
    "# printing the first value for the index in each df\n",
    "print(f'The first index value in each index is:')\n",
    "for time_period in ['5y', '1y', 'event_specific', '10y']:\n",
    "    print(f'{time_period}: {industry_dataframes[time_period].index[0]}')  # First index\n"
   ]
  },
  {
   "cell_type": "markdown",
   "metadata": {},
   "source": [
    "The timestamp ending in ``-05:00`` confirms that the timestamp is matching the ``ns, America/New_York`` timezone.  \n",
    "As UTC is typically the standard timezone used worldwide the index will be updated to convert from ``America/New_York`` to ``UTC`` to tidy the data.  \n",
    "This will also be beneficial to avoid any issues with compatibility should any further markets be brought in scope of the project further down the line."
   ]
  },
  {
   "cell_type": "code",
   "execution_count": 75,
   "metadata": {},
   "outputs": [
    {
     "name": "stdout",
     "output_type": "stream",
     "text": [
      "5y: 2019-12-30 05:00:00+00:00\n",
      "1y: 2023-12-28 05:00:00+00:00\n",
      "event_specific: 2023-12-26 05:00:00+00:00\n",
      "10y: 2014-12-29 05:00:00+00:00\n"
     ]
    }
   ],
   "source": [
    "\n",
    "for time_period in ['5y', '1y', 'event_specific', '10y']:\n",
    "    industry_dataframes[time_period].index = industry_dataframes[time_period].index.tz_convert('UTC')\n",
    "    print(f'{time_period}: {industry_dataframes[time_period].index[0]}')  # First index\n",
    "\n"
   ]
  },
  {
   "cell_type": "code",
   "execution_count": null,
   "metadata": {},
   "outputs": [],
   "source": [
    "# creating an empty list to store summary statistics for each industry\n",
    "industry_summary = []\n",
    "\n",
    "# fetching the data for each industry by looping through the key value pairs returned from the .items() method\n",
    "for industry, companies in industries.items():\n",
    "    data = yf.Tickers(' '.join(companies))  # .Tickers() function is used to fetch the data for all of the companies in the list within the industry for that iteration of the for loop\n",
    "    # creating lists to store the  market capitalisations, P/E ratios and dividend yields per company\n",
    "    market_caps = []\n",
    "    pe_ratios = []\n",
    "    dividend_yields = []\n",
    "\n",
    "    # getting the data for each company within the industry specified for the parent for loop\n",
    "    for company in companies:\n",
    "        info = data.tickers[company].info  # retrieveing detailed information about the company\n",
    "\n",
    "        # Adding the market cap, P/E ratio and dividend yield for the current company to the lists defined above\n",
    "        # getting the market cap and trailing P/E ratio, defaulting to 0 if data is missing\n",
    "        market_caps.append(info.get('marketCap', 0))  \n",
    "        pe_ratios.append(info.get('trailingPE', 0))\n",
    "        #calculating the dividend yield as a percentage\n",
    "        dividend_yields.append(info.get('dividendYield', 0) * 100 if info.get('dividendYield') else 0)\n",
    "\n",
    "    # calculating the averages for the market cap, P/E ratio and dividend yield for the industry using the values added to the 3 lists for each company\n",
    "    # first the 3 values are added together then the length of list is used to divide the sum giving the average for each industry\n",
    "    avg_market_cap = sum(market_caps) / len(market_caps)\n",
    "    avg_pe_ratio = sum(pe_ratios) / len(pe_ratios)\n",
    "    avg_dividend_yield = sum(dividend_yields) / len(dividend_yields)\n",
    "\n",
    "    # adding the results for the industry to the summary list\n",
    "    industry_summary.append({\n",
    "        'Industry': industry,  # industry name\n",
    "        'Avg Market Cap ($B)': round(avg_market_cap / 1e9, 2),  # average market cap in billions\n",
    "        'Avg P/E Ratio': round(avg_pe_ratio, 2),  # average price-to-earnings ratio\n",
    "        'Avg Dividend Yield (%)': round(avg_dividend_yield, 2)  # Average dividend yield percentage\n",
    "    })\n",
    "\n",
    "# creating a DataFrame to store and display results \n",
    "summary_df = pd.DataFrame(industry_summary)  # converting summary list into a DataFrame\n",
    "print(summary_df)  # displaying the summary table\n"
   ]
  }
 ],
 "metadata": {
  "kernelspec": {
   "display_name": "base",
   "language": "python",
   "name": "python3"
  },
  "language_info": {
   "codemirror_mode": {
    "name": "ipython",
    "version": 3
   },
   "file_extension": ".py",
   "mimetype": "text/x-python",
   "name": "python",
   "nbconvert_exporter": "python",
   "pygments_lexer": "ipython3",
   "version": "3.12.4"
  }
 },
 "nbformat": 4,
 "nbformat_minor": 2
}
